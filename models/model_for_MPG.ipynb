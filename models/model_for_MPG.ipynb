{
 "cells": [
  {
   "cell_type": "code",
   "execution_count": 172,
   "id": "d7767c5d",
   "metadata": {},
   "outputs": [],
   "source": [
    "import pandas as pd\n",
    "import numpy as np\n",
    "from sklearn import pipeline,preprocessing,metrics,model_selection,ensemble\n",
    "from sklearn_pandas import DataFrameMapper\n",
    "from sklearn.preprocessing import OneHotEncoder"
   ]
  },
  {
   "cell_type": "code",
   "execution_count": 173,
   "id": "cf076746",
   "metadata": {},
   "outputs": [],
   "source": [
    "data=pd.read_excel(r'G:\\DBA\\MOD_2_core analytics\\django\\djangoTut\\mpgWebApp\\models\\mileage_new.xls')"
   ]
  },
  {
   "cell_type": "code",
   "execution_count": 174,
   "id": "ca342a47",
   "metadata": {},
   "outputs": [
    {
     "data": {
      "text/html": [
       "<div>\n",
       "<style scoped>\n",
       "    .dataframe tbody tr th:only-of-type {\n",
       "        vertical-align: middle;\n",
       "    }\n",
       "\n",
       "    .dataframe tbody tr th {\n",
       "        vertical-align: top;\n",
       "    }\n",
       "\n",
       "    .dataframe thead th {\n",
       "        text-align: right;\n",
       "    }\n",
       "</style>\n",
       "<table border=\"1\" class=\"dataframe\">\n",
       "  <thead>\n",
       "    <tr style=\"text-align: right;\">\n",
       "      <th></th>\n",
       "      <th>mpg</th>\n",
       "      <th>cyl</th>\n",
       "      <th>disp</th>\n",
       "      <th>hp</th>\n",
       "      <th>wt</th>\n",
       "      <th>acc</th>\n",
       "      <th>modyr</th>\n",
       "      <th>origin</th>\n",
       "      <th>name</th>\n",
       "    </tr>\n",
       "  </thead>\n",
       "  <tbody>\n",
       "    <tr>\n",
       "      <th>0</th>\n",
       "      <td>18.0</td>\n",
       "      <td>8</td>\n",
       "      <td>307.0</td>\n",
       "      <td>130</td>\n",
       "      <td>3504</td>\n",
       "      <td>12.0</td>\n",
       "      <td>70</td>\n",
       "      <td>1</td>\n",
       "      <td>chevrolet chevelle malibu</td>\n",
       "    </tr>\n",
       "    <tr>\n",
       "      <th>1</th>\n",
       "      <td>15.0</td>\n",
       "      <td>8</td>\n",
       "      <td>350.0</td>\n",
       "      <td>165</td>\n",
       "      <td>3693</td>\n",
       "      <td>11.5</td>\n",
       "      <td>70</td>\n",
       "      <td>1</td>\n",
       "      <td>buick skylark 320</td>\n",
       "    </tr>\n",
       "    <tr>\n",
       "      <th>2</th>\n",
       "      <td>18.0</td>\n",
       "      <td>8</td>\n",
       "      <td>318.0</td>\n",
       "      <td>150</td>\n",
       "      <td>3436</td>\n",
       "      <td>11.0</td>\n",
       "      <td>70</td>\n",
       "      <td>1</td>\n",
       "      <td>plymouth satellite</td>\n",
       "    </tr>\n",
       "    <tr>\n",
       "      <th>3</th>\n",
       "      <td>16.0</td>\n",
       "      <td>8</td>\n",
       "      <td>304.0</td>\n",
       "      <td>150</td>\n",
       "      <td>3433</td>\n",
       "      <td>12.0</td>\n",
       "      <td>70</td>\n",
       "      <td>1</td>\n",
       "      <td>amc rebel sst</td>\n",
       "    </tr>\n",
       "    <tr>\n",
       "      <th>4</th>\n",
       "      <td>17.0</td>\n",
       "      <td>8</td>\n",
       "      <td>302.0</td>\n",
       "      <td>140</td>\n",
       "      <td>3449</td>\n",
       "      <td>10.5</td>\n",
       "      <td>70</td>\n",
       "      <td>1</td>\n",
       "      <td>ford torino</td>\n",
       "    </tr>\n",
       "    <tr>\n",
       "      <th>...</th>\n",
       "      <td>...</td>\n",
       "      <td>...</td>\n",
       "      <td>...</td>\n",
       "      <td>...</td>\n",
       "      <td>...</td>\n",
       "      <td>...</td>\n",
       "      <td>...</td>\n",
       "      <td>...</td>\n",
       "      <td>...</td>\n",
       "    </tr>\n",
       "    <tr>\n",
       "      <th>387</th>\n",
       "      <td>27.0</td>\n",
       "      <td>4</td>\n",
       "      <td>140.0</td>\n",
       "      <td>86</td>\n",
       "      <td>2790</td>\n",
       "      <td>15.6</td>\n",
       "      <td>82</td>\n",
       "      <td>1</td>\n",
       "      <td>ford mustang gl</td>\n",
       "    </tr>\n",
       "    <tr>\n",
       "      <th>388</th>\n",
       "      <td>44.0</td>\n",
       "      <td>4</td>\n",
       "      <td>97.0</td>\n",
       "      <td>52</td>\n",
       "      <td>2130</td>\n",
       "      <td>24.6</td>\n",
       "      <td>82</td>\n",
       "      <td>2</td>\n",
       "      <td>vw pickup</td>\n",
       "    </tr>\n",
       "    <tr>\n",
       "      <th>389</th>\n",
       "      <td>32.0</td>\n",
       "      <td>4</td>\n",
       "      <td>135.0</td>\n",
       "      <td>84</td>\n",
       "      <td>2295</td>\n",
       "      <td>11.6</td>\n",
       "      <td>82</td>\n",
       "      <td>1</td>\n",
       "      <td>dodge rampage</td>\n",
       "    </tr>\n",
       "    <tr>\n",
       "      <th>390</th>\n",
       "      <td>28.0</td>\n",
       "      <td>4</td>\n",
       "      <td>120.0</td>\n",
       "      <td>79</td>\n",
       "      <td>2625</td>\n",
       "      <td>18.6</td>\n",
       "      <td>82</td>\n",
       "      <td>1</td>\n",
       "      <td>ford ranger</td>\n",
       "    </tr>\n",
       "    <tr>\n",
       "      <th>391</th>\n",
       "      <td>31.0</td>\n",
       "      <td>4</td>\n",
       "      <td>119.0</td>\n",
       "      <td>82</td>\n",
       "      <td>2720</td>\n",
       "      <td>19.4</td>\n",
       "      <td>82</td>\n",
       "      <td>1</td>\n",
       "      <td>chevy s-10</td>\n",
       "    </tr>\n",
       "  </tbody>\n",
       "</table>\n",
       "<p>392 rows × 9 columns</p>\n",
       "</div>"
      ],
      "text/plain": [
       "      mpg  cyl   disp   hp    wt   acc  modyr  origin  \\\n",
       "0    18.0    8  307.0  130  3504  12.0     70       1   \n",
       "1    15.0    8  350.0  165  3693  11.5     70       1   \n",
       "2    18.0    8  318.0  150  3436  11.0     70       1   \n",
       "3    16.0    8  304.0  150  3433  12.0     70       1   \n",
       "4    17.0    8  302.0  140  3449  10.5     70       1   \n",
       "..    ...  ...    ...  ...   ...   ...    ...     ...   \n",
       "387  27.0    4  140.0   86  2790  15.6     82       1   \n",
       "388  44.0    4   97.0   52  2130  24.6     82       2   \n",
       "389  32.0    4  135.0   84  2295  11.6     82       1   \n",
       "390  28.0    4  120.0   79  2625  18.6     82       1   \n",
       "391  31.0    4  119.0   82  2720  19.4     82       1   \n",
       "\n",
       "                          name  \n",
       "0    chevrolet chevelle malibu  \n",
       "1            buick skylark 320  \n",
       "2           plymouth satellite  \n",
       "3                amc rebel sst  \n",
       "4                  ford torino  \n",
       "..                         ...  \n",
       "387            ford mustang gl  \n",
       "388                  vw pickup  \n",
       "389              dodge rampage  \n",
       "390                ford ranger  \n",
       "391                 chevy s-10  \n",
       "\n",
       "[392 rows x 9 columns]"
      ]
     },
     "execution_count": 174,
     "metadata": {},
     "output_type": "execute_result"
    }
   ],
   "source": [
    "data"
   ]
  },
  {
   "cell_type": "code",
   "execution_count": 175,
   "id": "9c275a04",
   "metadata": {},
   "outputs": [
    {
     "data": {
      "text/plain": [
       "(392, 9)"
      ]
     },
     "execution_count": 175,
     "metadata": {},
     "output_type": "execute_result"
    }
   ],
   "source": [
    "data.shape"
   ]
  },
  {
   "cell_type": "code",
   "execution_count": 176,
   "id": "12e7851c",
   "metadata": {},
   "outputs": [
    {
     "data": {
      "text/plain": [
       "mpg       0\n",
       "cyl       0\n",
       "disp      0\n",
       "hp        0\n",
       "wt        0\n",
       "acc       0\n",
       "modyr     0\n",
       "origin    0\n",
       "name      0\n",
       "dtype: int64"
      ]
     },
     "execution_count": 176,
     "metadata": {},
     "output_type": "execute_result"
    }
   ],
   "source": [
    "data.isnull().sum()"
   ]
  },
  {
   "cell_type": "code",
   "execution_count": 177,
   "id": "1e317d53",
   "metadata": {},
   "outputs": [],
   "source": [
    "mapper = DataFrameMapper([\n",
    "                        (['cyl','disp','wt','acc','modyr'],preprocessing.StandardScaler()),\n",
    "                        (['origin'],preprocessing.OneHotEncoder(handle_unknown = 'ignore'))\n",
    "                        ])"
   ]
  },
  {
   "cell_type": "code",
   "execution_count": 178,
   "id": "4e1ca042",
   "metadata": {},
   "outputs": [],
   "source": [
    "pipeline_obj=pipeline.Pipeline([\n",
    "    ('mapper',mapper),\n",
    "    (\"model\",ensemble.RandomForestRegressor())\n",
    "])"
   ]
  },
  {
   "cell_type": "code",
   "execution_count": 179,
   "id": "7c32957f",
   "metadata": {},
   "outputs": [
    {
     "data": {
      "text/plain": [
       "Index(['mpg', 'cyl', 'disp', 'hp', 'wt', 'acc', 'modyr', 'origin', 'name'], dtype='object')"
      ]
     },
     "execution_count": 179,
     "metadata": {},
     "output_type": "execute_result"
    }
   ],
   "source": [
    "data.columns"
   ]
  },
  {
   "cell_type": "code",
   "execution_count": 180,
   "id": "aab213c0",
   "metadata": {},
   "outputs": [],
   "source": [
    "X=['cyl', 'disp', 'wt', 'acc', 'modyr','origin']\n",
    "Y=['mpg']"
   ]
  },
  {
   "cell_type": "code",
   "execution_count": 181,
   "id": "0b194e01",
   "metadata": {},
   "outputs": [
    {
     "name": "stderr",
     "output_type": "stream",
     "text": [
      "c:\\users\\bhargav\\lib\\site-packages\\sklearn\\pipeline.py:346: DataConversionWarning: A column-vector y was passed when a 1d array was expected. Please change the shape of y to (n_samples,), for example using ravel().\n",
      "  self._final_estimator.fit(Xt, y, **fit_params_last_step)\n"
     ]
    },
    {
     "data": {
      "text/plain": [
       "Pipeline(steps=[('mapper',\n",
       "                 DataFrameMapper(drop_cols=[],\n",
       "                                 features=[(['cyl', 'disp', 'wt', 'acc',\n",
       "                                             'modyr'],\n",
       "                                            StandardScaler()),\n",
       "                                           (['origin'],\n",
       "                                            OneHotEncoder(handle_unknown='ignore'))])),\n",
       "                ('model', RandomForestRegressor())])"
      ]
     },
     "execution_count": 181,
     "metadata": {},
     "output_type": "execute_result"
    }
   ],
   "source": [
    "pipeline_obj.fit(data[X],data[Y])"
   ]
  },
  {
   "cell_type": "code",
   "execution_count": 182,
   "id": "e7ca9a9a",
   "metadata": {},
   "outputs": [
    {
     "data": {
      "text/plain": [
       "array([17.59 , 14.86 , 17.21 , 16.422, 16.842, 14.65 , 13.94 , 14.18 ,\n",
       "       13.39 , 14.83 , 14.87 , 14.38 , 14.96 , 14.809, 23.98 , 21.432,\n",
       "       19.122, 20.798, 27.035, 26.615, 24.22 , 24.51 , 24.78 , 25.12 ,\n",
       "       20.487, 10.74 , 10.91 , 11.77 ,  9.83 , 27.045, 26.21 , 25.27 ,\n",
       "       19.65 , 16.701, 17.56 , 18.69 , 18.37 , 13.995, 13.65 , 14.15 ,\n",
       "       14.01 , 12.23 , 13.   , 12.68 , 18.13 , 21.97 , 18.83 , 18.206,\n",
       "       23.904, 26.65 , 29.395, 29.11 , 31.706, 33.825, 27.52 , 26.883,\n",
       "       24.482, 25.575, 23.325, 20.69 , 22.919, 13.43 , 13.7  , 14.585,\n",
       "       13.985, 16.33 , 11.79 , 12.63 , 12.3  , 13.215, 20.817, 14.995,\n",
       "       13.635, 13.34 , 13.975, 18.993, 22.031, 20.532, 26.05 , 22.46 ,\n",
       "       26.23 , 22.652, 27.215, 26.655, 13.5  , 14.55 , 13.41 , 14.04 ,\n",
       "       14.605, 12.01 , 13.04 , 13.185, 14.07 , 12.63 , 12.03 , 13.365,\n",
       "       18.364, 16.339, 18.537, 17.713, 21.99 , 26.365, 11.5  , 12.12 ,\n",
       "       12.83 , 12.29 , 18.626, 21.7  , 20.84 , 22.8  , 22.45 , 21.027,\n",
       "       21.505, 25.81 , 14.34 , 15.27 , 28.765, 25.065, 21.107, 19.79 ,\n",
       "       15.22 , 22.916, 20.262, 12.405, 20.296, 19.295, 15.855, 31.03 ,\n",
       "       25.303, 31.513, 24.76 , 16.045, 16.16 , 17.888, 15.46 , 13.56 ,\n",
       "       14.08 , 13.74 , 14.35 , 27.573, 27.47 , 26.01 , 31.885, 31.62 ,\n",
       "       27.365, 25.57 , 25.854, 24.38 , 25.464, 29.96 , 19.122, 17.683,\n",
       "       15.552, 15.632, 15.41 , 15.025, 15.53 , 14.425, 17.285, 16.1  ,\n",
       "       15.656, 17.528, 20.337, 19.07 , 14.833, 28.475, 23.484, 19.785,\n",
       "       22.747, 24.024, 25.873, 23.936, 19.011, 29.005, 18.714, 23.492,\n",
       "       22.379, 21.407, 24.436, 32.596, 26.94 , 25.53 , 24.985, 26.114,\n",
       "       27.31 , 16.795, 15.885, 15.02 , 14.92 , 21.441, 20.695, 22.89 ,\n",
       "       21.59 , 29.502, 25.66 , 29.12 , 32.691, 19.467, 18.129, 18.462,\n",
       "       18.388, 29.782, 31.77 , 28.2  , 25.741, 20.041, 13.562, 20.07 ,\n",
       "       19.622, 16.953, 15.82 , 13.685, 13.697, 13.764, 31.668, 29.867,\n",
       "       33.92 , 25.597, 32.622, 16.756, 16.901, 15.56 , 15.351, 17.872,\n",
       "       20.278, 19.059, 18.168, 15.8  , 15.595, 15.635, 15.59 , 29.732,\n",
       "       24.596, 25.868, 24.839, 30.895, 32.323, 30.586, 29.9  , 21.42 ,\n",
       "       22.944, 22.324, 40.314, 35.271, 34.189, 37.438, 35.29 , 19.51 ,\n",
       "       18.76 , 19.584, 18.991, 20.349, 20.441, 24.694, 20.207, 19.675,\n",
       "       20.329, 20.653, 18.856, 18.719, 19.229, 18.307, 18.293, 16.969,\n",
       "       30.827, 26.211, 26.705, 29.777, 23.164, 23.713, 23.194, 24.982,\n",
       "       21.539, 17.835, 22.479, 17.192, 32.822, 30.671, 21.235, 20.957,\n",
       "       23.859, 20.259, 20.495, 17.351, 18.115, 17.14 , 17.921, 16.622,\n",
       "       16.001, 19.774, 17.966, 33.699, 34.157, 35.586, 28.165, 25.135,\n",
       "       21.225, 26.985, 22.231, 34.507, 34.577, 34.345, 36.999, 27.92 ,\n",
       "       27.83 , 26.302, 31.236, 38.718, 36.867, 33.118, 36.804, 27.77 ,\n",
       "       25.538, 25.153, 20.093, 34.337, 29.967, 31.983, 35.302, 32.845,\n",
       "       42.824, 27.105, 40.8  , 43.263, 38.861, 33.182, 28.858, 40.346,\n",
       "       35.654, 31.954, 30.406, 28.824, 34.25 , 32.63 , 28.167, 26.76 ,\n",
       "       26.228, 24.676, 31.372, 38.022, 38.162, 35.919, 34.302, 37.056,\n",
       "       36.701, 34.615, 34.428, 34.451, 31.455, 34.152, 33.95 , 32.63 ,\n",
       "       32.51 , 31.448, 28.437, 28.345, 26.284, 25.614, 21.547, 24.698,\n",
       "       21.508, 18.637, 28.691, 28.045, 32.501, 30.668, 29.216, 27.04 ,\n",
       "       24.986, 35.279, 36.271, 32.732, 37.013, 35.634, 35.763, 35.397,\n",
       "       33.533, 36.927, 33.356, 36.201, 25.517, 31.408, 26.778, 25.099,\n",
       "       30.021, 34.022, 26.193, 26.772, 42.658, 32.443, 28.527, 29.709])"
      ]
     },
     "execution_count": 182,
     "metadata": {},
     "output_type": "execute_result"
    }
   ],
   "source": [
    "pipeline_obj.predict(data[X])"
   ]
  },
  {
   "cell_type": "code",
   "execution_count": 183,
   "id": "e1353cab",
   "metadata": {},
   "outputs": [],
   "source": [
    "import joblib"
   ]
  },
  {
   "cell_type": "code",
   "execution_count": 184,
   "id": "7282c82b",
   "metadata": {},
   "outputs": [
    {
     "data": {
      "text/plain": [
       "['RFModelforMPG3.pkl']"
      ]
     },
     "execution_count": 184,
     "metadata": {},
     "output_type": "execute_result"
    }
   ],
   "source": [
    "joblib.dump(pipeline_obj,'RFModelforMPG3.pkl')"
   ]
  },
  {
   "cell_type": "code",
   "execution_count": 185,
   "id": "60208086",
   "metadata": {},
   "outputs": [],
   "source": [
    "modelReload=joblib.load('RFModelforMPG3.pkl')"
   ]
  },
  {
   "cell_type": "code",
   "execution_count": 186,
   "id": "a8a641ff",
   "metadata": {},
   "outputs": [
    {
     "data": {
      "text/plain": [
       "array([17.59 , 14.86 , 17.21 , 16.422, 16.842, 14.65 , 13.94 , 14.18 ,\n",
       "       13.39 , 14.83 , 14.87 , 14.38 , 14.96 , 14.809, 23.98 , 21.432,\n",
       "       19.122, 20.798, 27.035, 26.615, 24.22 , 24.51 , 24.78 , 25.12 ,\n",
       "       20.487, 10.74 , 10.91 , 11.77 ,  9.83 , 27.045, 26.21 , 25.27 ,\n",
       "       19.65 , 16.701, 17.56 , 18.69 , 18.37 , 13.995, 13.65 , 14.15 ,\n",
       "       14.01 , 12.23 , 13.   , 12.68 , 18.13 , 21.97 , 18.83 , 18.206,\n",
       "       23.904, 26.65 , 29.395, 29.11 , 31.706, 33.825, 27.52 , 26.883,\n",
       "       24.482, 25.575, 23.325, 20.69 , 22.919, 13.43 , 13.7  , 14.585,\n",
       "       13.985, 16.33 , 11.79 , 12.63 , 12.3  , 13.215, 20.817, 14.995,\n",
       "       13.635, 13.34 , 13.975, 18.993, 22.031, 20.532, 26.05 , 22.46 ,\n",
       "       26.23 , 22.652, 27.215, 26.655, 13.5  , 14.55 , 13.41 , 14.04 ,\n",
       "       14.605, 12.01 , 13.04 , 13.185, 14.07 , 12.63 , 12.03 , 13.365,\n",
       "       18.364, 16.339, 18.537, 17.713, 21.99 , 26.365, 11.5  , 12.12 ,\n",
       "       12.83 , 12.29 , 18.626, 21.7  , 20.84 , 22.8  , 22.45 , 21.027,\n",
       "       21.505, 25.81 , 14.34 , 15.27 , 28.765, 25.065, 21.107, 19.79 ,\n",
       "       15.22 , 22.916, 20.262, 12.405, 20.296, 19.295, 15.855, 31.03 ,\n",
       "       25.303, 31.513, 24.76 , 16.045, 16.16 , 17.888, 15.46 , 13.56 ,\n",
       "       14.08 , 13.74 , 14.35 , 27.573, 27.47 , 26.01 , 31.885, 31.62 ,\n",
       "       27.365, 25.57 , 25.854, 24.38 , 25.464, 29.96 , 19.122, 17.683,\n",
       "       15.552, 15.632, 15.41 , 15.025, 15.53 , 14.425, 17.285, 16.1  ,\n",
       "       15.656, 17.528, 20.337, 19.07 , 14.833, 28.475, 23.484, 19.785,\n",
       "       22.747, 24.024, 25.873, 23.936, 19.011, 29.005, 18.714, 23.492,\n",
       "       22.379, 21.407, 24.436, 32.596, 26.94 , 25.53 , 24.985, 26.114,\n",
       "       27.31 , 16.795, 15.885, 15.02 , 14.92 , 21.441, 20.695, 22.89 ,\n",
       "       21.59 , 29.502, 25.66 , 29.12 , 32.691, 19.467, 18.129, 18.462,\n",
       "       18.388, 29.782, 31.77 , 28.2  , 25.741, 20.041, 13.562, 20.07 ,\n",
       "       19.622, 16.953, 15.82 , 13.685, 13.697, 13.764, 31.668, 29.867,\n",
       "       33.92 , 25.597, 32.622, 16.756, 16.901, 15.56 , 15.351, 17.872,\n",
       "       20.278, 19.059, 18.168, 15.8  , 15.595, 15.635, 15.59 , 29.732,\n",
       "       24.596, 25.868, 24.839, 30.895, 32.323, 30.586, 29.9  , 21.42 ,\n",
       "       22.944, 22.324, 40.314, 35.271, 34.189, 37.438, 35.29 , 19.51 ,\n",
       "       18.76 , 19.584, 18.991, 20.349, 20.441, 24.694, 20.207, 19.675,\n",
       "       20.329, 20.653, 18.856, 18.719, 19.229, 18.307, 18.293, 16.969,\n",
       "       30.827, 26.211, 26.705, 29.777, 23.164, 23.713, 23.194, 24.982,\n",
       "       21.539, 17.835, 22.479, 17.192, 32.822, 30.671, 21.235, 20.957,\n",
       "       23.859, 20.259, 20.495, 17.351, 18.115, 17.14 , 17.921, 16.622,\n",
       "       16.001, 19.774, 17.966, 33.699, 34.157, 35.586, 28.165, 25.135,\n",
       "       21.225, 26.985, 22.231, 34.507, 34.577, 34.345, 36.999, 27.92 ,\n",
       "       27.83 , 26.302, 31.236, 38.718, 36.867, 33.118, 36.804, 27.77 ,\n",
       "       25.538, 25.153, 20.093, 34.337, 29.967, 31.983, 35.302, 32.845,\n",
       "       42.824, 27.105, 40.8  , 43.263, 38.861, 33.182, 28.858, 40.346,\n",
       "       35.654, 31.954, 30.406, 28.824, 34.25 , 32.63 , 28.167, 26.76 ,\n",
       "       26.228, 24.676, 31.372, 38.022, 38.162, 35.919, 34.302, 37.056,\n",
       "       36.701, 34.615, 34.428, 34.451, 31.455, 34.152, 33.95 , 32.63 ,\n",
       "       32.51 , 31.448, 28.437, 28.345, 26.284, 25.614, 21.547, 24.698,\n",
       "       21.508, 18.637, 28.691, 28.045, 32.501, 30.668, 29.216, 27.04 ,\n",
       "       24.986, 35.279, 36.271, 32.732, 37.013, 35.634, 35.763, 35.397,\n",
       "       33.533, 36.927, 33.356, 36.201, 25.517, 31.408, 26.778, 25.099,\n",
       "       30.021, 34.022, 26.193, 26.772, 42.658, 32.443, 28.527, 29.709])"
      ]
     },
     "execution_count": 186,
     "metadata": {},
     "output_type": "execute_result"
    }
   ],
   "source": [
    "modelReload.predict(data[X])"
   ]
  }
 ],
 "metadata": {
  "kernelspec": {
   "display_name": "Python 3 (ipykernel)",
   "language": "python",
   "name": "python3"
  },
  "language_info": {
   "codemirror_mode": {
    "name": "ipython",
    "version": 3
   },
   "file_extension": ".py",
   "mimetype": "text/x-python",
   "name": "python",
   "nbconvert_exporter": "python",
   "pygments_lexer": "ipython3",
   "version": "3.9.6"
  }
 },
 "nbformat": 4,
 "nbformat_minor": 5
}
